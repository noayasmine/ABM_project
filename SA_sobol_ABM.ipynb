{
 "cells": [
  {
   "cell_type": "code",
   "execution_count": 1,
   "id": "634d18d4-3c1f-4e55-9be8-f8e50d3918d4",
   "metadata": {},
   "outputs": [],
   "source": [
    "import SALib\n",
    "from SALib.sample import saltelli\n",
    "from SALib.analyze import sobol\n",
    "import pandas as pd\n",
    "import numpy as np\n",
    "import matplotlib.pyplot as plt\n",
    "from itertools import combinations\n",
    "from IPython.display import clear_output\n",
    "#from tqdm import tqdm  # For progress bar\n",
    "from ABM_Final_Final_Final import SocialNetwork"
   ]
  },
  {
   "cell_type": "code",
   "execution_count": 36,
   "id": "55b549fc-b73b-49d5-bdfe-8b7cbd362f7c",
   "metadata": {},
   "outputs": [
    {
     "name": "stdout",
     "output_type": "stream",
     "text": [
      "   prob   mu temp social   Run max IN degree avg clustering coeff\n",
      "0   NaN  NaN  NaN    NaN  None          None                 None\n",
      "1   NaN  NaN  NaN    NaN  None          None                 None\n",
      "2   NaN  NaN  NaN    NaN  None          None                 None\n",
      "3   NaN  NaN  NaN    NaN  None          None                 None\n",
      "4   NaN  NaN  NaN    NaN  None          None                 None\n",
      "5   NaN  NaN  NaN    NaN  None          None                 None\n",
      "6   NaN  NaN  NaN    NaN  None          None                 None\n",
      "7   NaN  NaN  NaN    NaN  None          None                 None\n",
      "8   NaN  NaN  NaN    NaN  None          None                 None\n",
      "9   NaN  NaN  NaN    NaN  None          None                 None\n",
      "10  NaN  NaN  NaN    NaN  None          None                 None\n",
      "11  NaN  NaN  NaN    NaN  None          None                 None\n",
      "12  NaN  NaN  NaN    NaN  None          None                 None\n",
      "13  NaN  NaN  NaN    NaN  None          None                 None\n",
      "14  NaN  NaN  NaN    NaN  None          None                 None\n",
      "15  NaN  NaN  NaN    NaN  None          None                 None\n",
      "16  NaN  NaN  NaN    NaN  None          None                 None\n",
      "17  NaN  NaN  NaN    NaN  None          None                 None\n",
      "18  NaN  NaN  NaN    NaN  None          None                 None\n",
      "19  NaN  NaN  NaN    NaN  None          None                 None\n",
      "20  NaN  NaN  NaN    NaN  None          None                 None\n",
      "21  NaN  NaN  NaN    NaN  None          None                 None\n",
      "22  NaN  NaN  NaN    NaN  None          None                 None\n",
      "23  NaN  NaN  NaN    NaN  None          None                 None\n"
     ]
    },
    {
     "name": "stderr",
     "output_type": "stream",
     "text": [
      "C:\\Users\\franc\\AppData\\Local\\Temp\\ipykernel_16856\\2109614244.py:18: DeprecationWarning: `salib.sample.saltelli` will be removed in SALib 1.5.1 Please use `salib.sample.sobol`\n",
      "  param_values = saltelli.sample(problem, distinct_samples, calc_second_order=False)\n"
     ]
    }
   ],
   "source": [
    "# We define our variables and bounds\n",
    "problem = {\n",
    "    'num_vars': 4,\n",
    "    'names': ['prob', 'mu', 'temp', 'social'],\n",
    "    'bounds': [[0., 1.], [0.5,2], [0,100], [0.,1.]]\n",
    "}\n",
    "\n",
    "w_pop = 0.2\n",
    "w_prox = 0.7\n",
    "w_sim = 0.1\n",
    "\n",
    "# Set the repetitions, the amount of steps, and the amount of distinct values per variable\n",
    "replicates = 5\n",
    "max_steps = 800\n",
    "distinct_samples = 8\n",
    "\n",
    "# We get all our samples here\n",
    "param_values = saltelli.sample(problem, distinct_samples, calc_second_order=False)\n",
    "\n",
    "# Initialize DataFrame to store results\n",
    "num_samples = len(param_values) * replicates\n",
    "\n",
    "data = pd.DataFrame(index=range(num_samples), columns=['prob', 'mu', 'temp', 'social'])\n",
    "\n",
    "data['Run'], data['max IN degree'], data['avg clustering coeff'] = None, None, None\n",
    "\n",
    "print(data)"
   ]
  },
  {
   "cell_type": "code",
   "execution_count": 37,
   "id": "b6ac2447-7179-4adb-90bc-5ead88740027",
   "metadata": {},
   "outputs": [],
   "source": [
    "# Define your model\n",
    "def run_model(params,max_steps):\n",
    "    n_agents = 100\n",
    "    prob, temp, mu, social = params\n",
    "    model = SocialNetwork(n_agents, prob, w_pop, w_prox, w_sim, mu, temp, social)\n",
    "    results = pd.DataFrame(model.Data_Collector)\n",
    "    for k in range(max_steps + 1):\n",
    "        model.step()\n",
    "        print(f\"\\rProgress: {(k / max_steps) * 100:.2f}%\", end='', flush=True)\n",
    "   \n",
    "    df_results = pd.DataFrame(model.Data_Collector)\n",
    "    \n",
    "    return df_results['avg clustering coeff'].iloc[-1], df_results['max IN degrees'].iloc[-1]"
   ]
  },
  {
   "cell_type": "code",
   "execution_count": 38,
   "id": "0ea47b83-8e28-4e9b-bdd9-c28f4f839e14",
   "metadata": {},
   "outputs": [
    {
     "name": "stdout",
     "output_type": "stream",
     "text": [
      "\n",
      "Run 0\n",
      "Progress: 100.00%\n",
      "Run 1\n",
      "Progress: 100.00%\n",
      "Run 2\n",
      "Progress: 100.00%\n",
      "Run 3\n",
      "Progress: 100.00%\n",
      "Run 4\n",
      "Progress: 100.00%\n",
      "Run 5\n",
      "Progress: 100.00%\n",
      "Run 6\n",
      "Progress: 100.00%\n",
      "Run 7\n",
      "Progress: 100.00%\n",
      "Run 8\n",
      "Progress: 100.00%\n",
      "Run 9\n",
      "Progress: 100.00%\n",
      "Run 10\n",
      "Progress: 100.00%\n",
      "Run 11\n",
      "Progress: 100.00%\n",
      "Run 12\n",
      "Progress: 100.00%\n",
      "Run 13\n",
      "Progress: 100.00%\n",
      "Run 14\n",
      "Progress: 100.00%\n",
      "Run 15\n",
      "Progress: 100.00%\n",
      "Run 16\n",
      "Progress: 100.00%\n",
      "Run 17\n",
      "Progress: 100.00%\n",
      "Run 18\n",
      "Progress: 100.00%\n",
      "Run 19\n",
      "Progress: 100.00%\n",
      "Run 20\n",
      "Progress: 100.00%\n",
      "Run 21\n",
      "Progress: 100.00%\n",
      "Run 22\n",
      "Progress: 100.00%\n",
      "Run 23\n",
      "Progress: 100.00%"
     ]
    }
   ],
   "source": [
    "# Batch run\n",
    "count = 0\n",
    "for i in range(replicates):\n",
    "    for vals in param_values:\n",
    "        \n",
    "        # Run the model with the current set of parameters\n",
    "        print(f\"\\nRun {count}\")\n",
    "        # iteration[0] is clustercoef, iteration[1] is max_IN\n",
    "        clustering_coeff, max_in = run_model(vals, max_steps)\n",
    "        data.iloc[count, 0:len(vals)] = list(vals)\n",
    "        data.iloc[count, len(vals):len(vals)+3] = count,clustering_coeff,max_in\n",
    "        count += 1\n",
    "       \n",
    "data.to_csv(f\"sobol_rep{replicates}_maxstep{max_steps}_distsamples{distinct_samples}.csv\", index=False)\n"
   ]
  },
  {
   "cell_type": "code",
   "execution_count": 41,
   "id": "3202514f-44d6-43a4-b05e-685f7a4a258d",
   "metadata": {},
   "outputs": [
    {
     "name": "stdout",
     "output_type": "stream",
     "text": [
      "              ST   ST_conf\n",
      "prob    0.191684  1.092970\n",
      "mu      0.004470  0.060527\n",
      "temp    0.000000  0.000000\n",
      "social  0.002407  0.019204\n",
      "              S1   S1_conf\n",
      "prob    0.128248  5.370529\n",
      "mu     -0.062920  1.032934\n",
      "temp    0.000000  0.000000\n",
      "social -0.050199  0.644975\n"
     ]
    },
    {
     "name": "stderr",
     "output_type": "stream",
     "text": [
      "C:\\Users\\franc\\AppData\\Local\\Packages\\PythonSoftwareFoundation.Python.3.11_qbz5n2kfra8p0\\LocalCache\\local-packages\\Python311\\site-packages\\SALib\\util\\__init__.py:274: FutureWarning: unique with argument that is not not a Series, Index, ExtensionArray, or np.ndarray is deprecated and will raise in a future version.\n",
      "  names = list(pd.unique(groups))\n"
     ]
    },
    {
     "ename": "KeyError",
     "evalue": "'max IN degrees'",
     "output_type": "error",
     "traceback": [
      "\u001b[1;31m---------------------------------------------------------------------------\u001b[0m",
      "\u001b[1;31mKeyError\u001b[0m                                  Traceback (most recent call last)",
      "File \u001b[1;32m~\\AppData\\Local\\Packages\\PythonSoftwareFoundation.Python.3.11_qbz5n2kfra8p0\\LocalCache\\local-packages\\Python311\\site-packages\\pandas\\core\\indexes\\base.py:3802\u001b[0m, in \u001b[0;36mIndex.get_loc\u001b[1;34m(self, key)\u001b[0m\n\u001b[0;32m   3801\u001b[0m \u001b[38;5;28;01mtry\u001b[39;00m:\n\u001b[1;32m-> 3802\u001b[0m     \u001b[38;5;28;01mreturn\u001b[39;00m \u001b[38;5;28;43mself\u001b[39;49m\u001b[38;5;241;43m.\u001b[39;49m\u001b[43m_engine\u001b[49m\u001b[38;5;241;43m.\u001b[39;49m\u001b[43mget_loc\u001b[49m\u001b[43m(\u001b[49m\u001b[43mcasted_key\u001b[49m\u001b[43m)\u001b[49m\n\u001b[0;32m   3803\u001b[0m \u001b[38;5;28;01mexcept\u001b[39;00m \u001b[38;5;167;01mKeyError\u001b[39;00m \u001b[38;5;28;01mas\u001b[39;00m err:\n",
      "File \u001b[1;32mindex.pyx:153\u001b[0m, in \u001b[0;36mpandas._libs.index.IndexEngine.get_loc\u001b[1;34m()\u001b[0m\n",
      "File \u001b[1;32mindex.pyx:182\u001b[0m, in \u001b[0;36mpandas._libs.index.IndexEngine.get_loc\u001b[1;34m()\u001b[0m\n",
      "File \u001b[1;32mpandas\\\\_libs\\\\hashtable_class_helper.pxi:7081\u001b[0m, in \u001b[0;36mpandas._libs.hashtable.PyObjectHashTable.get_item\u001b[1;34m()\u001b[0m\n",
      "File \u001b[1;32mpandas\\\\_libs\\\\hashtable_class_helper.pxi:7089\u001b[0m, in \u001b[0;36mpandas._libs.hashtable.PyObjectHashTable.get_item\u001b[1;34m()\u001b[0m\n",
      "\u001b[1;31mKeyError\u001b[0m: 'max IN degrees'",
      "\nThe above exception was the direct cause of the following exception:\n",
      "\u001b[1;31mKeyError\u001b[0m                                  Traceback (most recent call last)",
      "Cell \u001b[1;32mIn[41], line 2\u001b[0m\n\u001b[0;32m      1\u001b[0m Si_sheep \u001b[38;5;241m=\u001b[39m sobol\u001b[38;5;241m.\u001b[39manalyze(problem, data[\u001b[38;5;124m'\u001b[39m\u001b[38;5;124mavg clustering coeff\u001b[39m\u001b[38;5;124m'\u001b[39m]\u001b[38;5;241m.\u001b[39mvalues, calc_second_order\u001b[38;5;241m=\u001b[39m\u001b[38;5;28;01mFalse\u001b[39;00m, print_to_console\u001b[38;5;241m=\u001b[39m\u001b[38;5;28;01mTrue\u001b[39;00m)\n\u001b[1;32m----> 2\u001b[0m Si_wolves \u001b[38;5;241m=\u001b[39m sobol\u001b[38;5;241m.\u001b[39manalyze(problem, \u001b[43mdata\u001b[49m\u001b[43m[\u001b[49m\u001b[38;5;124;43m'\u001b[39;49m\u001b[38;5;124;43mmax IN degrees\u001b[39;49m\u001b[38;5;124;43m'\u001b[39;49m\u001b[43m]\u001b[49m\u001b[38;5;241m.\u001b[39mvalues, calc_second_order\u001b[38;5;241m=\u001b[39m\u001b[38;5;28;01mFalse\u001b[39;00m, print_to_console\u001b[38;5;241m=\u001b[39m\u001b[38;5;28;01mTrue\u001b[39;00m)\n",
      "File \u001b[1;32m~\\AppData\\Local\\Packages\\PythonSoftwareFoundation.Python.3.11_qbz5n2kfra8p0\\LocalCache\\local-packages\\Python311\\site-packages\\pandas\\core\\frame.py:4090\u001b[0m, in \u001b[0;36mDataFrame.__getitem__\u001b[1;34m(self, key)\u001b[0m\n\u001b[0;32m   4088\u001b[0m \u001b[38;5;28;01mif\u001b[39;00m \u001b[38;5;28mself\u001b[39m\u001b[38;5;241m.\u001b[39mcolumns\u001b[38;5;241m.\u001b[39mnlevels \u001b[38;5;241m>\u001b[39m \u001b[38;5;241m1\u001b[39m:\n\u001b[0;32m   4089\u001b[0m     \u001b[38;5;28;01mreturn\u001b[39;00m \u001b[38;5;28mself\u001b[39m\u001b[38;5;241m.\u001b[39m_getitem_multilevel(key)\n\u001b[1;32m-> 4090\u001b[0m indexer \u001b[38;5;241m=\u001b[39m \u001b[38;5;28;43mself\u001b[39;49m\u001b[38;5;241;43m.\u001b[39;49m\u001b[43mcolumns\u001b[49m\u001b[38;5;241;43m.\u001b[39;49m\u001b[43mget_loc\u001b[49m\u001b[43m(\u001b[49m\u001b[43mkey\u001b[49m\u001b[43m)\u001b[49m\n\u001b[0;32m   4091\u001b[0m \u001b[38;5;28;01mif\u001b[39;00m is_integer(indexer):\n\u001b[0;32m   4092\u001b[0m     indexer \u001b[38;5;241m=\u001b[39m [indexer]\n",
      "File \u001b[1;32m~\\AppData\\Local\\Packages\\PythonSoftwareFoundation.Python.3.11_qbz5n2kfra8p0\\LocalCache\\local-packages\\Python311\\site-packages\\pandas\\core\\indexes\\base.py:3809\u001b[0m, in \u001b[0;36mIndex.get_loc\u001b[1;34m(self, key)\u001b[0m\n\u001b[0;32m   3804\u001b[0m     \u001b[38;5;28;01mif\u001b[39;00m \u001b[38;5;28misinstance\u001b[39m(casted_key, \u001b[38;5;28mslice\u001b[39m) \u001b[38;5;129;01mor\u001b[39;00m (\n\u001b[0;32m   3805\u001b[0m         \u001b[38;5;28misinstance\u001b[39m(casted_key, abc\u001b[38;5;241m.\u001b[39mIterable)\n\u001b[0;32m   3806\u001b[0m         \u001b[38;5;129;01mand\u001b[39;00m \u001b[38;5;28many\u001b[39m(\u001b[38;5;28misinstance\u001b[39m(x, \u001b[38;5;28mslice\u001b[39m) \u001b[38;5;28;01mfor\u001b[39;00m x \u001b[38;5;129;01min\u001b[39;00m casted_key)\n\u001b[0;32m   3807\u001b[0m     ):\n\u001b[0;32m   3808\u001b[0m         \u001b[38;5;28;01mraise\u001b[39;00m InvalidIndexError(key)\n\u001b[1;32m-> 3809\u001b[0m     \u001b[38;5;28;01mraise\u001b[39;00m \u001b[38;5;167;01mKeyError\u001b[39;00m(key) \u001b[38;5;28;01mfrom\u001b[39;00m \u001b[38;5;21;01merr\u001b[39;00m\n\u001b[0;32m   3810\u001b[0m \u001b[38;5;28;01mexcept\u001b[39;00m \u001b[38;5;167;01mTypeError\u001b[39;00m:\n\u001b[0;32m   3811\u001b[0m     \u001b[38;5;66;03m# If we have a listlike key, _check_indexing_error will raise\u001b[39;00m\n\u001b[0;32m   3812\u001b[0m     \u001b[38;5;66;03m#  InvalidIndexError. Otherwise we fall through and re-raise\u001b[39;00m\n\u001b[0;32m   3813\u001b[0m     \u001b[38;5;66;03m#  the TypeError.\u001b[39;00m\n\u001b[0;32m   3814\u001b[0m     \u001b[38;5;28mself\u001b[39m\u001b[38;5;241m.\u001b[39m_check_indexing_error(key)\n",
      "\u001b[1;31mKeyError\u001b[0m: 'max IN degrees'"
     ]
    }
   ],
   "source": [
    "Si_sheep = sobol.analyze(problem, data['avg clustering coeff'].values, calc_second_order=False, print_to_console=True)\n",
    "Si_wolves = sobol.analyze(problem, data['max IN degrees'].values, calc_second_order=False, print_to_console=True)"
   ]
  },
  {
   "cell_type": "code",
   "execution_count": 39,
   "id": "1c86cf98-6672-4891-a009-ca84e86ec9ed",
   "metadata": {},
   "outputs": [
    {
     "name": "stdout",
     "output_type": "stream",
     "text": [
      "       prob        mu    temp   social Run max IN degree avg clustering coeff\n",
      "0   0.09375  1.203125  46.875  0.65625   0       0.10492                   18\n",
      "1   0.28125  1.203125  46.875  0.65625   1      0.276065                   39\n",
      "2   0.09375  1.953125  46.875  0.65625   2      0.102328                   19\n",
      "3   0.09375  1.203125  53.125  0.65625   3      0.092677                   18\n",
      "4   0.09375  1.203125  46.875  0.84375   4      0.098414                   21\n",
      "5   0.28125  1.953125  53.125  0.84375   5        0.2781                   36\n",
      "6   0.59375  1.953125  96.875  0.15625   6      0.591265                   72\n",
      "7   0.78125  1.953125  96.875  0.15625   7      0.768627                   85\n",
      "8   0.59375  1.203125  96.875  0.15625   8      0.585988                   72\n",
      "9   0.59375  1.953125   3.125  0.15625   9      0.581127                   72\n",
      "10  0.59375  1.953125  96.875  0.34375  10      0.592285                   71\n",
      "11  0.78125  1.203125   3.125  0.34375  11      0.773077                   86\n",
      "12  0.09375  1.203125  46.875  0.65625  12      0.103104                   17\n",
      "13  0.28125  1.203125  46.875  0.65625  13      0.280318                   36\n",
      "14  0.09375  1.953125  46.875  0.65625  14      0.106749                   20\n",
      "15  0.09375  1.203125  53.125  0.65625  15      0.104411                   17\n",
      "16  0.09375  1.203125  46.875  0.84375  16      0.100794                   17\n",
      "17  0.28125  1.953125  53.125  0.84375  17      0.285642                   39\n",
      "18  0.59375  1.953125  96.875  0.15625  18       0.59046                   73\n",
      "19  0.78125  1.953125  96.875  0.15625  19      0.774565                   85\n",
      "20  0.59375  1.203125  96.875  0.15625  20      0.575587                   69\n",
      "21  0.59375  1.953125   3.125  0.15625  21      0.583647                   73\n",
      "22  0.59375  1.953125  96.875  0.34375  22      0.588594                   71\n",
      "23  0.78125  1.203125   3.125  0.34375  23      0.766657                   84\n"
     ]
    }
   ],
   "source": [
    "print(data)"
   ]
  }
 ],
 "metadata": {
  "kernelspec": {
   "display_name": "Python 3 (ipykernel)",
   "language": "python",
   "name": "python3"
  },
  "language_info": {
   "codemirror_mode": {
    "name": "ipython",
    "version": 3
   },
   "file_extension": ".py",
   "mimetype": "text/x-python",
   "name": "python",
   "nbconvert_exporter": "python",
   "pygments_lexer": "ipython3",
   "version": "3.11.9"
  }
 },
 "nbformat": 4,
 "nbformat_minor": 5
}
