{
 "cells": [
  {
   "cell_type": "code",
   "execution_count": 1,
   "id": "634d18d4-3c1f-4e55-9be8-f8e50d3918d4",
   "metadata": {},
   "outputs": [],
   "source": [
    "import SALib\n",
    "from SALib.sample import saltelli\n",
    "from SALib.analyze import sobol\n",
    "from joblib import Parallel, delayed\n",
    "import pandas as pd\n",
    "import numpy as np\n",
    "import matplotlib.pyplot as plt\n",
    "from itertools import combinations\n",
    "#from tqdm import tqdm  # For progress bar\n",
    "from ABM_Final_Final import SocialNetwork"
   ]
  },
  {
   "cell_type": "code",
   "execution_count": 2,
   "id": "55b549fc-b73b-49d5-bdfe-8b7cbd362f7c",
   "metadata": {},
   "outputs": [
    {
     "name": "stdout",
     "output_type": "stream",
     "text": [
      "   prob w_pop w_prox w_sim   mu temp conf_mu tol_mu\n",
      "0   NaN   NaN    NaN   NaN  NaN  NaN     NaN    NaN\n",
      "1   NaN   NaN    NaN   NaN  NaN  NaN     NaN    NaN\n",
      "2   NaN   NaN    NaN   NaN  NaN  NaN     NaN    NaN\n",
      "3   NaN   NaN    NaN   NaN  NaN  NaN     NaN    NaN\n",
      "4   NaN   NaN    NaN   NaN  NaN  NaN     NaN    NaN\n",
      "5   NaN   NaN    NaN   NaN  NaN  NaN     NaN    NaN\n",
      "6   NaN   NaN    NaN   NaN  NaN  NaN     NaN    NaN\n",
      "7   NaN   NaN    NaN   NaN  NaN  NaN     NaN    NaN\n",
      "8   NaN   NaN    NaN   NaN  NaN  NaN     NaN    NaN\n",
      "9   NaN   NaN    NaN   NaN  NaN  NaN     NaN    NaN\n",
      "10  NaN   NaN    NaN   NaN  NaN  NaN     NaN    NaN\n",
      "11  NaN   NaN    NaN   NaN  NaN  NaN     NaN    NaN\n",
      "12  NaN   NaN    NaN   NaN  NaN  NaN     NaN    NaN\n",
      "13  NaN   NaN    NaN   NaN  NaN  NaN     NaN    NaN\n",
      "14  NaN   NaN    NaN   NaN  NaN  NaN     NaN    NaN\n",
      "15  NaN   NaN    NaN   NaN  NaN  NaN     NaN    NaN\n",
      "16  NaN   NaN    NaN   NaN  NaN  NaN     NaN    NaN\n",
      "17  NaN   NaN    NaN   NaN  NaN  NaN     NaN    NaN\n",
      "18  NaN   NaN    NaN   NaN  NaN  NaN     NaN    NaN\n",
      "19  NaN   NaN    NaN   NaN  NaN  NaN     NaN    NaN\n",
      "20  NaN   NaN    NaN   NaN  NaN  NaN     NaN    NaN\n",
      "21  NaN   NaN    NaN   NaN  NaN  NaN     NaN    NaN\n",
      "22  NaN   NaN    NaN   NaN  NaN  NaN     NaN    NaN\n",
      "23  NaN   NaN    NaN   NaN  NaN  NaN     NaN    NaN\n",
      "24  NaN   NaN    NaN   NaN  NaN  NaN     NaN    NaN\n",
      "25  NaN   NaN    NaN   NaN  NaN  NaN     NaN    NaN\n",
      "26  NaN   NaN    NaN   NaN  NaN  NaN     NaN    NaN\n",
      "27  NaN   NaN    NaN   NaN  NaN  NaN     NaN    NaN\n",
      "28  NaN   NaN    NaN   NaN  NaN  NaN     NaN    NaN\n",
      "29  NaN   NaN    NaN   NaN  NaN  NaN     NaN    NaN\n",
      "30  NaN   NaN    NaN   NaN  NaN  NaN     NaN    NaN\n",
      "31  NaN   NaN    NaN   NaN  NaN  NaN     NaN    NaN\n",
      "32  NaN   NaN    NaN   NaN  NaN  NaN     NaN    NaN\n",
      "33  NaN   NaN    NaN   NaN  NaN  NaN     NaN    NaN\n",
      "34  NaN   NaN    NaN   NaN  NaN  NaN     NaN    NaN\n",
      "35  NaN   NaN    NaN   NaN  NaN  NaN     NaN    NaN\n",
      "36  NaN   NaN    NaN   NaN  NaN  NaN     NaN    NaN\n",
      "37  NaN   NaN    NaN   NaN  NaN  NaN     NaN    NaN\n",
      "38  NaN   NaN    NaN   NaN  NaN  NaN     NaN    NaN\n",
      "39  NaN   NaN    NaN   NaN  NaN  NaN     NaN    NaN\n",
      "40  NaN   NaN    NaN   NaN  NaN  NaN     NaN    NaN\n",
      "41  NaN   NaN    NaN   NaN  NaN  NaN     NaN    NaN\n",
      "42  NaN   NaN    NaN   NaN  NaN  NaN     NaN    NaN\n",
      "43  NaN   NaN    NaN   NaN  NaN  NaN     NaN    NaN\n",
      "44  NaN   NaN    NaN   NaN  NaN  NaN     NaN    NaN\n",
      "45  NaN   NaN    NaN   NaN  NaN  NaN     NaN    NaN\n",
      "46  NaN   NaN    NaN   NaN  NaN  NaN     NaN    NaN\n",
      "47  NaN   NaN    NaN   NaN  NaN  NaN     NaN    NaN\n"
     ]
    },
    {
     "name": "stderr",
     "output_type": "stream",
     "text": [
      "C:\\Users\\franc\\AppData\\Local\\Temp\\ipykernel_17468\\2213441400.py:14: DeprecationWarning: `salib.sample.saltelli` will be removed in SALib 1.5.1 Please use `salib.sample.sobol`\n",
      "  param_values = saltelli.sample(problem, distinct_samples)\n"
     ]
    }
   ],
   "source": [
    "# We define our variables and bounds\n",
    "problem = {\n",
    "    'num_vars': 5,\n",
    "    'names': ['prob', 'mu', 'temp', 'conf_mu', 'tol_mu'],\n",
    "    'bounds': [[0., 1.], [0.1,1], [0.1,1], [0., 1.], [0.,1.]]\n",
    "}\n",
    "\n",
    "# Set the repetitions, the amount of steps, and the amount of distinct values per variable\n",
    "replicates = 1\n",
    "max_steps = 800\n",
    "distinct_samples = 4\n",
    "\n",
    "# We get all our samples here\n",
    "param_values = saltelli.sample(problem, distinct_samples)\n",
    "    \n",
    "\n",
    "# Initialize DataFrame to store results\n",
    "num_samples = len(param_values) * replicates\n",
    "\n",
    "data = pd.DataFrame(index=range(num_samples), columns=['prob', 'w_pop', 'w_prox', 'w_sim', 'mu', 'temp', 'conf_mu', 'tol_mu'])\n",
    "print(data)\n",
    "data['Run'], data['max IN degree'], data['avg clustering coeff'] = None, None, None"
   ]
  },
  {
   "cell_type": "code",
   "execution_count": 3,
   "id": "b6ac2447-7179-4adb-90bc-5ead88740027",
   "metadata": {},
   "outputs": [],
   "source": [
    "# Define your model\n",
    "def run_model(params,max_steps):\n",
    "    n_agents = 100\n",
    "    prob, temp, mu, conf_mu, tol_mu = params\n",
    "    w_sim = 0.2\n",
    "    w_pop = 0.4\n",
    "    w_prox = 0.2\n",
    "    model = SocialNetwork(n_agents, prob, mu, w_pop, w_prox, w_sim, temp, conf_mu, tol_mu)\n",
    "    results = pd.DataFrame(model.Data_Collector)\n",
    "    for k in range(max_steps + 1):\n",
    "        model.step()\n",
    "        print(f\"\\rProgress: {(k / max_steps) * 100:.2f}%\", end='', flush=True)\n",
    "   \n",
    "    df_results = pd.DataFrame(model.Data_Collector)\n",
    "    \n",
    "    return df_results['avg clustering coeff'].iloc[-1], df_results['max IN degrees'].iloc[-1]"
   ]
  },
  {
   "cell_type": "code",
   "execution_count": 5,
   "id": "9e3d907f",
   "metadata": {},
   "outputs": [],
   "source": [
    "n_jobs = 6\n",
    "\n",
    "Y = Parallel(n_jobs=n_jobs)(delayed(run_model)(vals, max_steps) for vals in param_values)\n",
    "print(Y)"
   ]
  },
  {
   "cell_type": "code",
   "execution_count": 26,
   "id": "0ea47b83-8e28-4e9b-bdd9-c28f4f839e14",
   "metadata": {},
   "outputs": [
    {
     "name": "stdout",
     "output_type": "stream",
     "text": [
      "\n",
      "Run 1\n",
      "Progress: 100.00%"
     ]
    },
    {
     "ename": "TypeError",
     "evalue": "'function' object is not iterable",
     "output_type": "error",
     "traceback": [
      "\u001b[1;31m---------------------------------------------------------------------------\u001b[0m",
      "\u001b[1;31mTypeError\u001b[0m                                 Traceback (most recent call last)",
      "Cell \u001b[1;32mIn[26], line 9\u001b[0m\n\u001b[0;32m      5\u001b[0m \u001b[38;5;28;01mfor\u001b[39;00m vals \u001b[38;5;129;01min\u001b[39;00m param_values:\n\u001b[0;32m      6\u001b[0m     \u001b[38;5;66;03m# Run the model with the current set of parameters\u001b[39;00m\n\u001b[0;32m      7\u001b[0m     \u001b[38;5;28mprint\u001b[39m(\u001b[38;5;124mf\u001b[39m\u001b[38;5;124m\"\u001b[39m\u001b[38;5;130;01m\\n\u001b[39;00m\u001b[38;5;124mRun \u001b[39m\u001b[38;5;132;01m{\u001b[39;00mcount\u001b[38;5;132;01m}\u001b[39;00m\u001b[38;5;124m\"\u001b[39m)\n\u001b[1;32m----> 9\u001b[0m     clustering_coeff, max_in \u001b[38;5;241m=\u001b[39m \u001b[43mParallel\u001b[49m\u001b[43m(\u001b[49m\u001b[43mn_jobs\u001b[49m\u001b[38;5;241;43m=\u001b[39;49m\u001b[43mn_jobs\u001b[49m\u001b[43m)\u001b[49m\u001b[43m(\u001b[49m\u001b[43mdelayed\u001b[49m\u001b[43m(\u001b[49m\u001b[43mrun_model\u001b[49m\u001b[43m(\u001b[49m\u001b[43mvals\u001b[49m\u001b[43m,\u001b[49m\u001b[43m \u001b[49m\u001b[43mmax_steps\u001b[49m\u001b[43m)\u001b[49m\u001b[43m)\u001b[49m\u001b[43m)\u001b[49m\n\u001b[0;32m     10\u001b[0m     data\u001b[38;5;241m.\u001b[39miloc[count, \u001b[38;5;241m0\u001b[39m:\u001b[38;5;28mlen\u001b[39m(vals)] \u001b[38;5;241m=\u001b[39m \u001b[38;5;28mlist\u001b[39m(vals)\n\u001b[0;32m     11\u001b[0m     data\u001b[38;5;241m.\u001b[39miloc[count, \u001b[38;5;28mlen\u001b[39m(vals):\u001b[38;5;28mlen\u001b[39m(vals)\u001b[38;5;241m+\u001b[39m\u001b[38;5;241m3\u001b[39m] \u001b[38;5;241m=\u001b[39m [count, clustering_coeff, max_in]\n",
      "File \u001b[1;32m~\\AppData\\Local\\Packages\\PythonSoftwareFoundation.Python.3.11_qbz5n2kfra8p0\\LocalCache\\local-packages\\Python311\\site-packages\\joblib\\parallel.py:1970\u001b[0m, in \u001b[0;36mParallel.__call__\u001b[1;34m(self, iterable)\u001b[0m\n\u001b[0;32m   1967\u001b[0m \u001b[38;5;66;03m# Following flag prevents double calls to `backend.stop_call`.\u001b[39;00m\n\u001b[0;32m   1968\u001b[0m \u001b[38;5;28mself\u001b[39m\u001b[38;5;241m.\u001b[39m_calling \u001b[38;5;241m=\u001b[39m \u001b[38;5;28;01mTrue\u001b[39;00m\n\u001b[1;32m-> 1970\u001b[0m iterator \u001b[38;5;241m=\u001b[39m \u001b[38;5;28;43miter\u001b[39;49m\u001b[43m(\u001b[49m\u001b[43miterable\u001b[49m\u001b[43m)\u001b[49m\n\u001b[0;32m   1971\u001b[0m pre_dispatch \u001b[38;5;241m=\u001b[39m \u001b[38;5;28mself\u001b[39m\u001b[38;5;241m.\u001b[39mpre_dispatch\n\u001b[0;32m   1973\u001b[0m \u001b[38;5;28;01mif\u001b[39;00m pre_dispatch \u001b[38;5;241m==\u001b[39m \u001b[38;5;124m'\u001b[39m\u001b[38;5;124mall\u001b[39m\u001b[38;5;124m'\u001b[39m:\n\u001b[0;32m   1974\u001b[0m     \u001b[38;5;66;03m# prevent further dispatch via multiprocessing callback thread\u001b[39;00m\n",
      "\u001b[1;31mTypeError\u001b[0m: 'function' object is not iterable"
     ]
    }
   ],
   "source": [
    "# Batch run\n",
    "n_jobs = -1\n",
    "count = 1\n",
    "for i in range(replicates):\n",
    "    for vals in param_values:\n",
    "        # Run the model with the current set of parameters\n",
    "        print(f\"\\nRun {count}\")\n",
    "        clustering_coeff, max_in = Parallel(n_jobs=n_jobs)(delayed(run_model(vals, max_steps)))\n",
    "        data.iloc[count, 0:len(vals)] = list(vals)\n",
    "        data.iloc[count, len(vals):len(vals)+3] = [count, clustering_coeff, max_in]\n",
    "        count += 1\n",
    "        \n",
    "data.to_csv(f\"sobol_rep{replicates}_maxstep{max_steps}_distsamples{distinct_samples}.csv\", index=False)\n"
   ]
  },
  {
   "cell_type": "code",
   "execution_count": null,
   "id": "3202514f-44d6-43a4-b05e-685f7a4a258d",
   "metadata": {},
   "outputs": [],
   "source": [
    "Si_clustering = sobol.analyze(problem, data['avg clustering coeff'].values, print_to_console=True)\n",
    "Si_IN_Degree = sobol.analyze(problem, data['max IN degrees'].values, print_to_console=True)"
   ]
  },
  {
   "cell_type": "code",
   "execution_count": null,
   "id": "1c86cf98-6672-4891-a009-ca84e86ec9ed",
   "metadata": {},
   "outputs": [],
   "source": []
  }
 ],
 "metadata": {
  "kernelspec": {
   "display_name": "Python 3 (ipykernel)",
   "language": "python",
   "name": "python3"
  },
  "language_info": {
   "codemirror_mode": {
    "name": "ipython",
    "version": 3
   },
   "file_extension": ".py",
   "mimetype": "text/x-python",
   "name": "python",
   "nbconvert_exporter": "python",
   "pygments_lexer": "ipython3",
   "version": "3.11.9"
  }
 },
 "nbformat": 4,
 "nbformat_minor": 5
}
