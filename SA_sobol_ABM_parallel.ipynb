{
 "cells": [
  {
   "cell_type": "code",
   "execution_count": 29,
   "id": "634d18d4-3c1f-4e55-9be8-f8e50d3918d4",
   "metadata": {},
   "outputs": [],
   "source": [
    "import SALib\n",
    "from SALib.sample import saltelli\n",
    "from SALib.analyze import sobol\n",
    "from joblib import Parallel, delayed\n",
    "import pandas as pd\n",
    "import numpy as np\n",
    "import matplotlib.pyplot as plt\n",
    "from tqdm import tqdm\n",
    "from itertools import combinations\n",
    "#from tqdm import tqdm  # For progress bar\n",
    "from ABM_Final_Final_Final import SocialNetwork"
   ]
  },
  {
   "cell_type": "code",
   "execution_count": 30,
   "id": "55b549fc-b73b-49d5-bdfe-8b7cbd362f7c",
   "metadata": {},
   "outputs": [
    {
     "name": "stdout",
     "output_type": "stream",
     "text": [
      "   prob social n_agents   Run max IN degree avg clustering coeff\n",
      "0   NaN    NaN      NaN  None          None                 None\n",
      "1   NaN    NaN      NaN  None          None                 None\n",
      "2   NaN    NaN      NaN  None          None                 None\n",
      "3   NaN    NaN      NaN  None          None                 None\n",
      "4   NaN    NaN      NaN  None          None                 None\n",
      "5   NaN    NaN      NaN  None          None                 None\n",
      "6   NaN    NaN      NaN  None          None                 None\n",
      "7   NaN    NaN      NaN  None          None                 None\n",
      "8   NaN    NaN      NaN  None          None                 None\n",
      "9   NaN    NaN      NaN  None          None                 None\n",
      "10  NaN    NaN      NaN  None          None                 None\n",
      "11  NaN    NaN      NaN  None          None                 None\n",
      "12  NaN    NaN      NaN  None          None                 None\n",
      "13  NaN    NaN      NaN  None          None                 None\n",
      "14  NaN    NaN      NaN  None          None                 None\n",
      "15  NaN    NaN      NaN  None          None                 None\n",
      "16  NaN    NaN      NaN  None          None                 None\n",
      "17  NaN    NaN      NaN  None          None                 None\n",
      "18  NaN    NaN      NaN  None          None                 None\n",
      "19  NaN    NaN      NaN  None          None                 None\n",
      "20  NaN    NaN      NaN  None          None                 None\n",
      "21  NaN    NaN      NaN  None          None                 None\n",
      "22  NaN    NaN      NaN  None          None                 None\n",
      "23  NaN    NaN      NaN  None          None                 None\n",
      "24  NaN    NaN      NaN  None          None                 None\n",
      "25  NaN    NaN      NaN  None          None                 None\n",
      "26  NaN    NaN      NaN  None          None                 None\n",
      "27  NaN    NaN      NaN  None          None                 None\n",
      "28  NaN    NaN      NaN  None          None                 None\n",
      "29  NaN    NaN      NaN  None          None                 None\n",
      "30  NaN    NaN      NaN  None          None                 None\n",
      "31  NaN    NaN      NaN  None          None                 None\n",
      "32  NaN    NaN      NaN  None          None                 None\n",
      "33  NaN    NaN      NaN  None          None                 None\n",
      "34  NaN    NaN      NaN  None          None                 None\n",
      "35  NaN    NaN      NaN  None          None                 None\n",
      "36  NaN    NaN      NaN  None          None                 None\n",
      "37  NaN    NaN      NaN  None          None                 None\n",
      "38  NaN    NaN      NaN  None          None                 None\n",
      "39  NaN    NaN      NaN  None          None                 None\n"
     ]
    },
    {
     "name": "stderr",
     "output_type": "stream",
     "text": [
      "C:\\Users\\franc\\AppData\\Local\\Temp\\ipykernel_16856\\3177386572.py:18: DeprecationWarning: `salib.sample.saltelli` will be removed in SALib 1.5.1 Please use `salib.sample.sobol`\n",
      "  param_values = saltelli.sample(problem, distinct_samples, calc_second_order=False)\n"
     ]
    }
   ],
   "source": [
    "# We define our variables and bounds\n",
    "problem = {\n",
    "    'num_vars': 3,\n",
    "    'names': ['prob', 'social', 'n_agents'],\n",
    "    'bounds': [[0., 1.], [0.,0.5], [50, 100]]\n",
    "}\n",
    "\n",
    "w_pop = 0.2\n",
    "w_prox = 0.7\n",
    "w_sim = 0.1\n",
    "\n",
    "# Set the repetitions, the amount of steps, and the amount of distinct values per variable\n",
    "replicates = 25\n",
    "max_steps = 350\n",
    "distinct_samples = 4\n",
    "\n",
    "# We get all our samples here\n",
    "param_values = saltelli.sample(problem, distinct_samples, calc_second_order=False)\n",
    "\n",
    "# Initialize DataFrame to store results\n",
    "num_samples = len(param_values) * replicates\n",
    "\n",
    "data = pd.DataFrame(index=range(num_samples), columns=['prob', 'social', 'n_agents'])\n",
    "\n",
    "data['Run'], data['max IN degree'], data['avg clustering coeff'] = None, None, None\n",
    "\n",
    "print(data)\n",
    "# https://stackoverflow.com/questions/67750857/how-to-activate-conda-environment-in-vs-code\n"
   ]
  },
  {
   "cell_type": "code",
   "execution_count": 37,
   "id": "b6ac2447-7179-4adb-90bc-5ead88740027",
   "metadata": {},
   "outputs": [],
   "source": [
    "# Define your model\n",
    "def run_model(count, params, max_steps):\n",
    "    prob, social, n_agents = params\n",
    "    print(n_agents)\n",
    "    n_agents = int(n_agents)\n",
    "    model = SocialNetwork(n_agents, prob, w_pop, w_prox, w_sim, social)\n",
    "    for k in range(max_steps + 1):\n",
    "        model.step()\n",
    "        print(f\"\\rProgress: {(k / max_steps) * 100:.2f}%\", end='', flush=True)\n",
    "   \n",
    "    df_results = pd.DataFrame(model.Data_Collector)\n",
    "    \n",
    "    return count, params,  df_results['avg clustering coeff'].iloc[-1], df_results['max IN degrees'].iloc[-1]"
   ]
  },
  {
   "cell_type": "code",
   "execution_count": 38,
   "id": "9e3d907f",
   "metadata": {},
   "outputs": [
    {
     "name": "stderr",
     "output_type": "stream",
     "text": [
      "Replicate 1/2: 100%|██████████| 20/20 [00:00<00:00, 27.92it/s]\n",
      "Replicate 2/2: 100%|██████████| 20/20 [00:00<?, ?it/s]\n"
     ]
    }
   ],
   "source": [
    "n_jobs = -1\n",
    "count = 0\n",
    "\n",
    "# Prepare a list to collect results\n",
    "results = []\n",
    "\n",
    "for i in range(replicates):\n",
    "    with Parallel(n_jobs=n_jobs) as parallel:\n",
    "        # Add progress bar\n",
    "        parallel_results = parallel(\n",
    "            delayed(run_model)(count + idx, vals, max_steps) \n",
    "            for idx, vals in enumerate(tqdm(param_values, desc=f\"Replicate {i+1}/{replicates}\"))\n",
    "        )\n",
    "    # Collect results\n",
    "    results.extend(parallel_results)\n",
    "    count += len(param_values)\n",
    "\n",
    "# Save results to DataFrame\n",
    "\n",
    "    #data.loc[run_id] = vals + [run_id, clustering_coeff, max_in]\n",
    "\n",
    "# Save DataFrame to CSV\n",
    "#data.to_csv(f\"sobol_rep{replicates}_maxstep{max_steps}_distsamples{distinct_samples}.csv\", index=False)\n"
   ]
  },
  {
   "cell_type": "code",
   "execution_count": null,
   "id": "427c897d",
   "metadata": {},
   "outputs": [
    {
     "name": "stdout",
     "output_type": "stream",
     "text": [
      "       prob    social Run max IN degree avg clustering coeff\n",
      "0   0.09375  0.234375   0            34             0.239842\n",
      "1   0.46875  0.234375   1            36              0.23878\n",
      "2   0.09375  0.328125   2            30             0.248738\n",
      "3   0.46875  0.328125   3            35             0.243546\n",
      "4   0.59375  0.484375   4            38             0.264313\n",
      "5   0.96875  0.484375   5            74             0.371415\n",
      "6   0.59375  0.078125   6            47             0.273887\n",
      "7   0.96875  0.078125   7            71             0.430481\n",
      "8   0.84375  0.109375   8            60             0.366602\n",
      "9   0.21875  0.109375   9            29             0.224795\n",
      "10  0.84375  0.453125  10            61             0.334582\n",
      "11  0.21875  0.453125  11            27             0.223864\n",
      "12  0.34375  0.359375  12            29             0.230722\n",
      "13  0.71875  0.359375  13            55             0.307988\n",
      "14  0.34375  0.203125  14            26             0.227736\n",
      "15  0.71875  0.203125  15            50             0.304055\n",
      "16  0.09375  0.234375  16            25             0.221813\n",
      "17  0.46875  0.234375  17            34             0.242407\n",
      "18  0.09375  0.328125  18            27             0.221296\n",
      "19  0.46875  0.328125  19            28             0.238537\n",
      "20  0.59375  0.484375  20            40             0.268724\n",
      "21  0.96875  0.484375  21            69             0.378556\n",
      "22  0.59375  0.078125  22            42             0.274772\n",
      "23  0.96875  0.078125  23            72             0.435804\n",
      "24  0.84375  0.109375  24            62             0.363238\n",
      "25  0.21875  0.109375  25            24             0.216922\n",
      "26  0.84375  0.453125  26            62             0.343458\n",
      "27  0.21875  0.453125  27            26              0.22563\n",
      "28  0.34375  0.359375  28            34             0.230105\n",
      "29  0.71875  0.359375  29            50             0.307962\n",
      "30  0.34375  0.203125  30            29             0.239999\n",
      "31  0.71875  0.203125  31            57             0.302383\n"
     ]
    }
   ],
   "source": [
    "for result in results:\n",
    "    count = result[0]\n",
    "    vals = list(result[1])\n",
    "    clustering_coeff = result[2]\n",
    "    max_in = result[3]\n",
    "    data.at[count, \"prob\"] = vals[0]\n",
    "    data.at[count, \"social\"] = vals[1]\n",
    "    data.at[count, \"n_agents\"] = vals[2]\n",
    "    data.iloc[count, len(vals):len(vals)+3] = count,max_in,clustering_coeff\n",
    "\n",
    "print(data)\n",
    "\n",
    "# Save DataFrame to CSV\n",
    "data.to_csv(f\"sobol_rep{replicates}_maxstep{max_steps}_distsamples{distinct_samples}.csv\", index=False)"
   ]
  },
  {
   "cell_type": "code",
   "execution_count": null,
   "id": "3202514f-44d6-43a4-b05e-685f7a4a258d",
   "metadata": {},
   "outputs": [
    {
     "name": "stdout",
     "output_type": "stream",
     "text": [
      "              ST   ST_conf\n",
      "prob    0.955475  0.615395\n",
      "social  0.021338  0.025412\n",
      "              S1  S1_conf\n",
      "prob    1.273724  0.42596\n",
      "social  0.127137  0.08555\n",
      "              ST   ST_conf\n",
      "prob    1.365848  0.525771\n",
      "social  0.034398  0.038086\n",
      "              S1   S1_conf\n",
      "prob    1.595086  0.785241\n",
      "social  0.100737  0.259303\n"
     ]
    },
    {
     "name": "stderr",
     "output_type": "stream",
     "text": [
      "C:\\Users\\franc\\AppData\\Local\\Packages\\PythonSoftwareFoundation.Python.3.11_qbz5n2kfra8p0\\LocalCache\\local-packages\\Python311\\site-packages\\SALib\\util\\__init__.py:274: FutureWarning: unique with argument that is not not a Series, Index, ExtensionArray, or np.ndarray is deprecated and will raise in a future version.\n",
      "  names = list(pd.unique(groups))\n",
      "C:\\Users\\franc\\AppData\\Local\\Packages\\PythonSoftwareFoundation.Python.3.11_qbz5n2kfra8p0\\LocalCache\\local-packages\\Python311\\site-packages\\SALib\\util\\__init__.py:274: FutureWarning: unique with argument that is not not a Series, Index, ExtensionArray, or np.ndarray is deprecated and will raise in a future version.\n",
      "  names = list(pd.unique(groups))\n"
     ]
    }
   ],
   "source": [
    "Si_cluster = sobol.analyze(problem, data['avg clustering coeff'].values, calc_second_order=False, print_to_console=True)\n",
    "Si_IN_Degree = sobol.analyze(problem, data['max IN degree'].values, calc_second_order=False, print_to_console=True)\n",
    "#max(data['max IN degree'])"
   ]
  },
  {
   "cell_type": "code",
   "execution_count": null,
   "id": "1c86cf98-6672-4891-a009-ca84e86ec9ed",
   "metadata": {},
   "outputs": [],
   "source": [
    "def plot_index(s, params, i, title=''):\n",
    "    \"\"\"\n",
    "    Creates a plot for Sobol sensitivity analysis that shows the contributions\n",
    "    of each parameter to the global sensitivity.\n",
    "\n",
    "    Args:\n",
    "        s (dict): dictionary {'S#': dict, 'S#_conf': dict} of dicts that hold\n",
    "            the values for a set of parameters\n",
    "        params (list): the parameters taken from s\n",
    "        i (str): string that indicates what order the sensitivity is.\n",
    "        title (str): title for the plot\n",
    "    \"\"\"\n",
    "\n",
    "    if i == '2':\n",
    "        p = len(params)\n",
    "        params = list(combinations(params, 2))\n",
    "        indices = s['S' + i].reshape((p ** 2))\n",
    "        indices = indices[~np.isnan(indices)]\n",
    "        errors = s['S' + i + '_conf'].reshape((p ** 2))\n",
    "        errors = errors[~np.isnan(errors)]\n",
    "    else:\n",
    "        indices = s['S' + i]\n",
    "        errors = s['S' + i + '_conf']\n",
    "        plt.figure()\n",
    "\n",
    "    l = len(indices)\n",
    "\n",
    "    plt.title(title)\n",
    "    plt.ylim([-0.2, len(indices) - 1 + 0.2])\n",
    "    plt.yticks(range(l), params)\n",
    "    plt.errorbar(indices, range(l), xerr=errors, linestyle='None', marker='o')\n",
    "    plt.axvline(0, c='k')"
   ]
  },
  {
   "cell_type": "code",
   "execution_count": null,
   "id": "92ab01bc",
   "metadata": {},
   "outputs": [
    {
     "data": {
      "image/png": "[encoded data removed]",
      "text/plain": [
       "<Figure size 640x480 with 1 Axes>"
      ]
     },
     "metadata": {},
     "output_type": "display_data"
    },
    {
     "data": {
      "image/png": "[encoded data removed]",
      "text/plain": [
       "<Figure size 640x480 with 1 Axes>"
      ]
     },
     "metadata": {},
     "output_type": "display_data"
    },
    {
     "data": {
      "image/png": "[encoded data removed]",
      "text/plain": [
       "<Figure size 640x480 with 1 Axes>"
      ]
     },
     "metadata": {},
     "output_type": "display_data"
    },
    {
     "data": {
      "image/png": "[encoded data removed]",
      "text/plain": [
       "<Figure size 640x480 with 1 Axes>"
      ]
     },
     "metadata": {},
     "output_type": "display_data"
    }
   ],
   "source": [
    "for Si in (Si_cluster, Si_IN_Degree):\n",
    "    # First order\n",
    "    plot_index(Si, problem['names'], '1', 'First order sensitivity')\n",
    "    plt.show()\n",
    "\n",
    "    # Total order\n",
    "    plot_index(Si, problem['names'], 'T', 'Total order sensitivity')\n",
    "    plt.show()"
   ]
  }
 ],
 "metadata": {
  "kernelspec": {
   "display_name": "Python 3 (ipykernel)",
   "language": "python",
   "name": "python3"
  },
  "language_info": {
   "codemirror_mode": {
    "name": "ipython",
    "version": 3
   },
   "file_extension": ".py",
   "mimetype": "text/x-python",
   "name": "python",
   "nbconvert_exporter": "python",
   "pygments_lexer": "ipython3",
   "version": "3.11.9"
  }
 },
 "nbformat": 4,
 "nbformat_minor": 5
}
