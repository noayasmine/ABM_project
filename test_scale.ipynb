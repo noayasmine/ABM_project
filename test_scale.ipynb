{
 "cells": [
  {
   "cell_type": "code",
   "execution_count": null,
   "id": "c87313c3",
   "metadata": {},
   "outputs": [],
   "source": [
    "from ABM_Final_Final import SocialNetwork\n",
    "import pandas as pd\n",
    "import numpy as np\n",
    "import matplotlib.pyplot as plt"
   ]
  },
  {
   "cell_type": "code",
   "execution_count": null,
   "id": "15eb1540",
   "metadata": {},
   "outputs": [],
   "source": [
    "n_agents = 1000\n",
    "prob = 0.5\n",
    "w_pop = 0.9\n",
    "w_prox = 0.05\n",
    "w_sim = 0.05\n",
    "mu = 1\n",
    "temp = 2\n",
    "conf_mu=0.1\n",
    "tol_mu=0.15\n",
    "\n",
    "model = SocialNetwork(n_agents, prob, w_pop, w_prox, w_sim, mu, temp, conf_mu, tol_mu)"
   ]
  },
  {
   "cell_type": "code",
   "execution_count": null,
   "id": "d8e85ae4",
   "metadata": {},
   "outputs": [],
   "source": [
    "count = 1\n",
    "max_steps = 5000\n",
    "for i in range(max_steps):\n",
    "    # Run the model with the current set of parameters\n",
    "    model.step()\n",
    "    print(f\"\\rProgress: {(i / max_steps) * 100:.2f}%\", end='', flush=True)\n",
    "    count += 1\n",
    "    \n",
    "results = pd.DataFrame(model.Data_Collector)"
   ]
  },
  {
   "cell_type": "code",
   "execution_count": null,
   "id": "95d78afb",
   "metadata": {},
   "outputs": [],
   "source": [
    "max_in = results['degree sequence'].iloc[-1]\n",
    "\n",
    "print(max_in)"
   ]
  },
  {
   "cell_type": "code",
   "execution_count": null,
   "id": "938ed02d",
   "metadata": {},
   "outputs": [],
   "source": []
  }
 ],
 "metadata": {
  "kernelspec": {
   "display_name": "Python 3 (ipykernel)",
   "language": "python",
   "name": "python3"
  },
  "language_info": {
   "codemirror_mode": {
    "name": "ipython",
    "version": 3
   },
   "file_extension": ".py",
   "mimetype": "text/x-python",
   "name": "python",
   "nbconvert_exporter": "python",
   "pygments_lexer": "ipython3",
   "version": "3.9.18"
  }
 },
 "nbformat": 4,
 "nbformat_minor": 5
}
